{
 "cells": [
  {
   "cell_type": "code",
   "execution_count": 2,
   "metadata": {
    "collapsed": false
   },
   "outputs": [
    {
     "name": "stderr",
     "output_type": "stream",
     "text": [
      "/Users/msamuel/anaconda/lib/python2.7/site-packages/matplotlib/__init__.py:872: UserWarning: axes.color_cycle is deprecated and replaced with axes.prop_cycle; please use the latter.\n",
      "  warnings.warn(self.msg_depr % (key, alt_key))\n",
      "/Users/msamuel/Projects/scikit-learn/sklearn/lda.py:4: DeprecationWarning: lda.LDA has been moved to discriminant_analysis.LinearDiscriminantAnalysis in 0.17 and will be removed in 0.19\n",
      "  \"in 0.17 and will be removed in 0.19\", DeprecationWarning)\n",
      "/Users/msamuel/Projects/scikit-learn/sklearn/cross_validation.py:42: DeprecationWarning: This module has been deprecated in favor of the model_selection module into which all the refactored classes and functions are moved. Also note that the interface of the new CV iterators are different from that of this module. This module will be removed in 0.20.\n",
      "  \"This module will be removed in 0.20.\", DeprecationWarning)\n",
      "/Users/msamuel/Projects/scikit-learn/sklearn/learning_curve.py:23: DeprecationWarning: This module has been deprecated in favor of the model_selection module into which all the functions are moved. This module will be removed in 0.20\n",
      "  DeprecationWarning)\n"
     ]
    }
   ],
   "source": [
    "import numpy as np\n",
    "from loadData import load\n",
    "from sklearn.lda import LDA\n",
    "from sklearn import svm\n",
    "from sklearn.decomposition import PCA\n",
    "from sklearn.learning_curve import learning_curve\n",
    "from sklearn.ensemble import BaggingClassifier\n",
    "from logisticRegression import logisticRegressionTrain\n",
    "from logisticRegression import logisticRegressionEvaluate"
   ]
  },
  {
   "cell_type": "markdown",
   "metadata": {},
   "source": [
    "# Train with Simple SVM"
   ]
  },
  {
   "cell_type": "code",
   "execution_count": 10,
   "metadata": {
    "collapsed": false
   },
   "outputs": [
    {
     "data": {
      "text/plain": [
       "SVC(C=1.0, cache_size=200, class_weight=None, coef0=0.0,\n",
       "  decision_function_shape=None, degree=3, gamma='auto', kernel='linear',\n",
       "  max_iter=-1, probability=False, random_state=None, shrinking=True,\n",
       "  tol=0.001, verbose=False)"
      ]
     },
     "execution_count": 10,
     "metadata": {},
     "output_type": "execute_result"
    }
   ],
   "source": [
    "trainData, trainLabels, testData, testLabels = load()\n",
    "model = svm.SVC(kernel='linear')\n",
    "model.fit(trainData, trainLabels)"
   ]
  },
  {
   "cell_type": "code",
   "execution_count": 11,
   "metadata": {
    "collapsed": false
   },
   "outputs": [
    {
     "name": "stdout",
     "output_type": "stream",
     "text": [
      "Train Error: 0.61%\n",
      "Test Error: 3.60%\n"
     ]
    }
   ],
   "source": [
    "predictions = model.predict(trainData)\n",
    "errors = (predictions != np.array(trainLabels).ravel())\n",
    "print \"Train Error: {0:0.2f}%\".format(100 * np.mean(errors))\n",
    "\n",
    "predictions = model.predict(testData)\n",
    "errors = (predictions != np.array(testLabels).ravel())\n",
    "print \"Test Error: {0:0.2f}%\".format(100 * np.mean(errors))"
   ]
  },
  {
   "cell_type": "markdown",
   "metadata": {},
   "source": [
    "# Train with LDA + SVM"
   ]
  },
  {
   "cell_type": "code",
   "execution_count": 5,
   "metadata": {
    "collapsed": false
   },
   "outputs": [
    {
     "name": "stdout",
     "output_type": "stream",
     "text": [
      "Train Error: 1.31%\n",
      "Test Error: 3.87%\n"
     ]
    }
   ],
   "source": [
    "trainData, trainLabels, testData, testLabels = load()\n",
    "lda = LDA(solver=\"svd\", store_covariance=True)\n",
    "\n",
    "trainData_lda = lda.fit_transform(trainData, trainLabels)\n",
    "testData_lda = lda.transform(testData)\n",
    "\n",
    "model_lda = svm.SVC(kernel='linear')\n",
    "model_lda.fit(trainData_lda, trainLabels)\n",
    "\n",
    "\n",
    "predictions = model_lda.predict(trainData_lda)\n",
    "errors = (predictions != np.array(trainLabels).ravel())\n",
    "print \"Train Error: {0:0.2f}%\".format(100 * np.mean(errors))\n",
    "\n",
    "predictions = model_lda.predict(testData_lda)\n",
    "errors = (predictions != np.array(testLabels).ravel())\n",
    "print \"Test Error: {0:0.2f}%\".format(100 * np.mean(errors))"
   ]
  },
  {
   "cell_type": "markdown",
   "metadata": {},
   "source": [
    "# Train with SVM + Bagging"
   ]
  },
  {
   "cell_type": "code",
   "execution_count": 3,
   "metadata": {
    "collapsed": false
   },
   "outputs": [
    {
     "name": "stdout",
     "output_type": "stream",
     "text": [
      "Train Error: 3.64%\n",
      "Test Error: 3.58%\n"
     ]
    },
    {
     "name": "stderr",
     "output_type": "stream",
     "text": [
      "/Users/msamuel/Projects/scikit-learn/sklearn/utils/validation.py:528: DataConversionWarning: A column-vector y was passed when a 1d array was expected. Please change the shape of y to (n_samples, ), for example using ravel().\n",
      "  y = column_or_1d(y, warn=True)\n"
     ]
    }
   ],
   "source": [
    "trainData, trainLabels, testData, testLabels = load()\n",
    "\n",
    "model = svm.SVC(kernel='linear')\n",
    "model.fit(trainData, trainLabels)\n",
    "\n",
    "bagging = BaggingClassifier(model)\n",
    "bagging.fit(trainData, np.array(trainLabels).ravel())\n",
    "\n",
    "trainError = bagging.predict(trainData)\n",
    "print \"Train Error: {0:0.2f}%\".format(np.mean(trainError))\n",
    "\n",
    "testError = bagging.predict(testData)\n",
    "print \"Test Error: {0:0.2f}%\".format(np.mean(testError))"
   ]
  },
  {
   "cell_type": "code",
   "execution_count": null,
   "metadata": {
    "collapsed": false
   },
   "outputs": [],
   "source": []
  },
  {
   "cell_type": "markdown",
   "metadata": {},
   "source": [
    "# LDA + SVM + Bagging"
   ]
  },
  {
   "cell_type": "code",
   "execution_count": 8,
   "metadata": {
    "collapsed": false
   },
   "outputs": [
    {
     "name": "stdout",
     "output_type": "stream",
     "text": [
      "Train Error: 3.64%\n",
      "Test Error: 3.59%\n"
     ]
    }
   ],
   "source": [
    "trainData, trainLabels, testData, testLabels = load()\n",
    "lda = LDA(solver=\"svd\", store_covariance=True)\n",
    "\n",
    "trainData_lda = lda.fit_transform(trainData, trainLabels)\n",
    "testData_lda = lda.transform(testData)\n",
    "\n",
    "model_lda = svm.SVC(kernel='linear')\n",
    "model_lda.fit(trainData_lda, trainLabels)\n",
    "\n",
    "bagging = BaggingClassifier(model_lda)\n",
    "bagging.fit(trainData_lda, np.array(trainLabels).ravel())\n",
    "\n",
    "trainError = bagging.predict(trainData_lda)\n",
    "print \"Train Error: {0:0.2f}%\".format(np.mean(trainError))\n",
    "\n",
    "testError = bagging.predict(testData_lda)\n",
    "print \"Test Error: {0:0.2f}%\".format(np.mean(testError))"
   ]
  },
  {
   "cell_type": "markdown",
   "metadata": {},
   "source": [
    "# Train with Simple Logistic Regression"
   ]
  },
  {
   "cell_type": "code",
   "execution_count": null,
   "metadata": {
    "collapsed": false
   },
   "outputs": [],
   "source": [
    "trainData, trainLabels, testData, testLabels = load()\n",
    "model = logisticRegressionTrain(trainData, trainLabels, \"lbfgs\")"
   ]
  },
  {
   "cell_type": "code",
   "execution_count": null,
   "metadata": {
    "collapsed": false
   },
   "outputs": [],
   "source": [
    "trainError = logisticRegressionEvaluate(model, trainData, trainLabels)\n",
    "print \"Train Error: {0:0.2f}%\".format(np.mean(trainError))\n",
    "\n",
    "testError = logisticRegressionEvaluate(model, testData, testLabels)\n",
    "print \"Test Error: {0:0.2f}%\".format(np.mean(testError))"
   ]
  },
  {
   "cell_type": "markdown",
   "metadata": {},
   "source": [
    "# Train with LDA + Logistic Regression"
   ]
  },
  {
   "cell_type": "code",
   "execution_count": null,
   "metadata": {
    "collapsed": false
   },
   "outputs": [],
   "source": [
    "trainData, trainLabels, testData, testLabels = load()\n",
    "lda = LDA(solver=\"svd\", store_covariance=True)\n",
    "\n",
    "trainData_lda = lda.fit_transform(trainData, trainLabels)\n",
    "testData_lda = lda.transform(testData)\n",
    "\n",
    "model_lda = logisticRegressionTrain(trainData_lda, trainLabels, \"lbfgs\")\n",
    "\n",
    "\n",
    "trainError = logisticRegressionEvaluate(model_lda, trainData_lda, trainLabels)\n",
    "print \"Train Error: {0:0.2f}%\".format(np.mean(trainError))\n",
    "\n",
    "testError = logisticRegressionEvaluate(model_lda, testData_lda, testLabels)\n",
    "print \"Test Error: {0:0.2f}%\".format(np.mean(testError))"
   ]
  },
  {
   "cell_type": "markdown",
   "metadata": {},
   "source": [
    "# Train with Logistic Regression + Bagging"
   ]
  },
  {
   "cell_type": "code",
   "execution_count": 9,
   "metadata": {
    "collapsed": false
   },
   "outputs": [
    {
     "name": "stdout",
     "output_type": "stream",
     "text": [
      "Train Error: 3.64%\n",
      "Test Error: 3.58%\n"
     ]
    }
   ],
   "source": [
    "trainData, trainLabels, testData, testLabels = load()\n",
    "\n",
    "model = logisticRegressionTrain(trainData, trainLabels, \"lbfgs\")\n",
    "bagging = BaggingClassifier(model)\n",
    "\n",
    "bagging.fit(trainData, np.array(trainLabels).ravel())\n",
    "\n",
    "trainError = bagging.predict(trainData)\n",
    "print \"Train Error: {0:0.2f}%\".format(np.mean(trainError))\n",
    "\n",
    "testError = bagging.predict(testData)\n",
    "print \"Test Error: {0:0.2f}%\".format(np.mean(testError))"
   ]
  },
  {
   "cell_type": "markdown",
   "metadata": {},
   "source": [
    "# LDA + Logistic Regression + Bagging"
   ]
  },
  {
   "cell_type": "code",
   "execution_count": 7,
   "metadata": {
    "collapsed": false
   },
   "outputs": [
    {
     "name": "stdout",
     "output_type": "stream",
     "text": [
      "Train Error: 3.64%\n",
      "Test Error: 3.59%\n"
     ]
    }
   ],
   "source": [
    "trainData, trainLabels, testData, testLabels = load()\n",
    "lda = LDA(solver=\"svd\", store_covariance=True)\n",
    "\n",
    "trainData_lda = lda.fit_transform(trainData, trainLabels)\n",
    "testData_lda = lda.transform(testData)\n",
    "\n",
    "model_lda = logisticRegressionTrain(trainData_lda, trainLabels, \"lbfgs\")\n",
    "\n",
    "bagging = BaggingClassifier(model_lda)\n",
    "bagging.fit(trainData_lda, np.array(trainLabels).ravel())\n",
    "\n",
    "trainError = bagging.predict(trainData_lda)\n",
    "print \"Train Error: {0:0.2f}%\".format(np.mean(trainError))\n",
    "\n",
    "testError = bagging.predict(testData_lda)\n",
    "print \"Test Error: {0:0.2f}%\".format(np.mean(testError))"
   ]
  },
  {
   "cell_type": "markdown",
   "metadata": {
    "collapsed": true
   },
   "source": [
    "# Train with PCA + Logistic Regression"
   ]
  },
  {
   "cell_type": "code",
   "execution_count": null,
   "metadata": {
    "collapsed": false
   },
   "outputs": [],
   "source": [
    "trainData, trainLabels, testData, testLabels = load()\n",
    "pca = PCA(n_components=450)\n",
    "\n",
    "trainData_pca = pca.fit_transform(trainData, trainLabels)\n",
    "testData_pca = pca.transform(testData)\n",
    "\n",
    "model_pca = logisticRegressionTrain(trainData_pca, trainLabels, \"lbfgs\")\n",
    "\n",
    "\n",
    "trainError = logisticRegressionEvaluate(model_pca, trainData_pca, trainLabels)\n",
    "print \"Training Error: \" + trainError\n",
    "\n",
    "testError = logisticRegressionEvaluate(model_pca, testData_pca, testLabels)\n",
    "print \"Test Error: \" + testError"
   ]
  },
  {
   "cell_type": "code",
   "execution_count": null,
   "metadata": {
    "collapsed": true
   },
   "outputs": [],
   "source": []
  }
 ],
 "metadata": {
  "kernelspec": {
   "display_name": "Python 2",
   "language": "python",
   "name": "python2"
  },
  "language_info": {
   "codemirror_mode": {
    "name": "ipython",
    "version": 2
   },
   "file_extension": ".py",
   "mimetype": "text/x-python",
   "name": "python",
   "nbconvert_exporter": "python",
   "pygments_lexer": "ipython2",
   "version": "2.7.10"
  }
 },
 "nbformat": 4,
 "nbformat_minor": 0
}
