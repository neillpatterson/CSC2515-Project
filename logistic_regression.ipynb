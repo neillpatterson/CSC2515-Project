{
 "cells": [
  {
   "cell_type": "code",
   "execution_count": 17,
   "metadata": {
    "collapsed": false
   },
   "outputs": [],
   "source": [
    "import numpy as np\n",
    "from loadData import load\n",
    "from sklearn.lda import LDA\n",
    "from sklearn.decomposition import PCA\n",
    "from sklearn.learning_curve import learning_curve\n",
    "from logisticRegression import logisticRegressionTrain\n",
    "from logisticRegression import logisticRegressionEvaluate"
   ]
  },
  {
   "cell_type": "markdown",
   "metadata": {},
   "source": [
    "# Train with Simple Logistic Regression"
   ]
  },
  {
   "cell_type": "code",
   "execution_count": 28,
   "metadata": {
    "collapsed": false
   },
   "outputs": [],
   "source": [
    "trainData, trainLabels, testData, testLabels = load()\n",
    "model = logisticRegressionTrain(trainData, trainLabels, \"lbfgs\")"
   ]
  },
  {
   "cell_type": "code",
   "execution_count": 29,
   "metadata": {
    "collapsed": false
   },
   "outputs": [
    {
     "name": "stdout",
     "output_type": "stream",
     "text": [
      "Training Error: 0.924918389554\n",
      "Test Error: 3.56294536817\n"
     ]
    }
   ],
   "source": [
    "trainError = logisticRegressionEvaluate(model, trainData, trainLabels)\n",
    "print \"Training Error: \" + trainError\n",
    "\n",
    "testError = logisticRegressionEvaluate(model, testData, testLabels)\n",
    "print \"Test Error: \" + testError"
   ]
  },
  {
   "cell_type": "markdown",
   "metadata": {},
   "source": [
    "# Train with LDA + Logistic Regression"
   ]
  },
  {
   "cell_type": "code",
   "execution_count": 32,
   "metadata": {
    "collapsed": false
   },
   "outputs": [
    {
     "name": "stdout",
     "output_type": "stream",
     "text": [
      "Training Error: 1.30576713819\n",
      "Test Error: 3.69867662029\n"
     ]
    }
   ],
   "source": [
    "trainData, trainLabels, testData, testLabels = load()\n",
    "lda = LDA(solver=\"svd\", store_covariance=True)\n",
    "\n",
    "trainData_lda = lda.fit_transform(trainData, trainLabels)\n",
    "testData_lda = lda.transform(testData)\n",
    "\n",
    "model_lda = logisticRegressionTrain(trainData_lda, trainLabels, \"lbfgs\")\n",
    "\n",
    "\n",
    "trainError = logisticRegressionEvaluate(model_lda, trainData_lda, trainLabels)\n",
    "print \"Training Error: \" + trainError\n",
    "\n",
    "testError = logisticRegressionEvaluate(model_lda, testData_lda, testLabels)\n",
    "print \"Test Error: \" + testError"
   ]
  },
  {
   "cell_type": "markdown",
   "metadata": {
    "collapsed": true
   },
   "source": [
    "# Train with PCA + Logistic Regression"
   ]
  },
  {
   "cell_type": "code",
   "execution_count": 36,
   "metadata": {
    "collapsed": false
   },
   "outputs": [
    {
     "name": "stdout",
     "output_type": "stream",
     "text": [
      "Training Error: 0.911316648531\n",
      "Test Error: 3.86834068544\n"
     ]
    }
   ],
   "source": [
    "trainData, trainLabels, testData, testLabels = load()\n",
    "pca = PCA(n_components=450)\n",
    "\n",
    "trainData_pca = pca.fit_transform(trainData, trainLabels)\n",
    "testData_pca = pca.transform(testData)\n",
    "\n",
    "model_pca = logisticRegressionTrain(trainData_pca, trainLabels, \"lbfgs\")\n",
    "\n",
    "\n",
    "trainError = logisticRegressionEvaluate(model_pca, trainData_pca, trainLabels)\n",
    "print \"Training Error: \" + trainError\n",
    "\n",
    "testError = logisticRegressionEvaluate(model_pca, testData_pca, testLabels)\n",
    "print \"Test Error: \" + testError"
   ]
  },
  {
   "cell_type": "code",
   "execution_count": null,
   "metadata": {
    "collapsed": true
   },
   "outputs": [],
   "source": []
  }
 ],
 "metadata": {
  "kernelspec": {
   "display_name": "Python 2",
   "language": "python",
   "name": "python2"
  },
  "language_info": {
   "codemirror_mode": {
    "name": "ipython",
    "version": 2
   },
   "file_extension": ".py",
   "mimetype": "text/x-python",
   "name": "python",
   "nbconvert_exporter": "python",
   "pygments_lexer": "ipython2",
   "version": "2.7.10"
  }
 },
 "nbformat": 4,
 "nbformat_minor": 0
}
