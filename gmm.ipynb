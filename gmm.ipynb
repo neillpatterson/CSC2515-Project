{
 "cells": [
  {
   "cell_type": "code",
   "execution_count": 2,
   "metadata": {
    "collapsed": false
   },
   "outputs": [
    {
     "name": "stderr",
     "output_type": "stream",
     "text": [
      "/Users/msamuel/anaconda/lib/python2.7/site-packages/matplotlib/__init__.py:872: UserWarning: axes.color_cycle is deprecated and replaced with axes.prop_cycle; please use the latter.\n",
      "  warnings.warn(self.msg_depr % (key, alt_key))\n",
      "/Users/msamuel/Projects/scikit-learn/sklearn/lda.py:4: DeprecationWarning: lda.LDA has been moved to discriminant_analysis.LinearDiscriminantAnalysis in 0.17 and will be removed in 0.19\n",
      "  \"in 0.17 and will be removed in 0.19\", DeprecationWarning)\n",
      "/Users/msamuel/Projects/scikit-learn/sklearn/cross_validation.py:42: DeprecationWarning: This module has been deprecated in favor of the model_selection module into which all the refactored classes and functions are moved. Also note that the interface of the new CV iterators are different from that of this module. This module will be removed in 0.20.\n",
      "  \"This module will be removed in 0.20.\", DeprecationWarning)\n"
     ]
    }
   ],
   "source": [
    "import numpy as np\n",
    "import pandas as pd\n",
    "import matplotlib.pyplot as plt\n",
    "import seaborn as sns\n",
    "from mpl_toolkits.mplot3d import proj3d\n",
    "#from sklearn.linear_model import SGDClassifier as LR\n",
    "from sklearn.ensemble import BaggingClassifier\n",
    "from sklearn.ensemble import GradientBoostingClassifier\n",
    "from sklearn.ensemble import AdaBoostClassifier\n",
    "from sklearn.mixture import GMM\n",
    "from sklearn.lda import LDA\n",
    "from sklearn.tree import DecisionTreeClassifier\n",
    "from sklearn.cross_validation import cross_val_score\n",
    "from numpy.random import multivariate_normal\n",
    "from sklearn.datasets import load_iris\n",
    "from matplotlib import animation\n",
    "from mpl_toolkits.mplot3d import Axes3D\n",
    "\n",
    "\n",
    "%matplotlib inline"
   ]
  },
  {
   "cell_type": "code",
   "execution_count": 3,
   "metadata": {
    "collapsed": false
   },
   "outputs": [],
   "source": [
    "classes = {1:\"walking\", 2:\"walking upstairs\", 3:\"walking downstairs\", 4:\"sitting\", 5:\"standing\", 6:\"laying\"}"
   ]
  },
  {
   "cell_type": "code",
   "execution_count": 4,
   "metadata": {
    "collapsed": true
   },
   "outputs": [],
   "source": [
    "# %load loadData.py\n",
    "\n",
    "def load(synthetic=False):\n",
    "  if (not synthetic):\n",
    "    train = pd.read_csv('train/X_train.txt', header=None, delim_whitespace=True)\n",
    "    test = pd.read_csv('test/X_test.txt', header=None, delim_whitespace=True)\n",
    "\n",
    "    label = pd.read_csv('train/y_train.txt', header=None, delim_whitespace=True)\n",
    "    test_label = pd.read_csv('test/y_test.txt', header=None, delim_whitespace=True)\n",
    "\n",
    "    return train, label, test, test_label\n",
    "\n",
    "  mu1 = np.array([0, 1])\n",
    "  mu2 = np.array([-0.5, -1.0])\n",
    "  mu3 = np.array([3.2, .6])\n",
    "  mu4 = np.array([3, -1])\n",
    "\n",
    "  s1 = np.matrix([[1, 0.1], [0.1, 0.1]])\n",
    "  s2 = np.matrix([[0.3, 0.2], [0.2, 0.4]])\n",
    "  s3 = np.matrix([[0.5, 0.01], [0.01, 0.1]])\n",
    "  s4 = np.matrix([[0.5, -0.2], [-0.2, 0.2]])\n",
    "\n",
    "  d1 = multivariate_normal(mu1, s1, 500)\n",
    "  d2 = multivariate_normal(mu2, s2, 500)\n",
    "  d3 = multivariate_normal(mu3, s3, 500)\n",
    "  d4 = multivariate_normal(mu4, s4, 500)\n",
    "  syntheticTrain = np.vstack((d1,d2,d3,d4))\n",
    "  syntheticTrainLabel = np.hstack(([1] * 500, [2] * 500, [3] * 500, [4] * 500))\n",
    "\n",
    "\n",
    "  t1 = multivariate_normal(mu1, s1, 500)\n",
    "  t2 = multivariate_normal(mu2, s2, 500)\n",
    "  t3 = multivariate_normal(mu3, s3, 500)\n",
    "  t4 = multivariate_normal(mu4, s4, 500)\n",
    "  syntheticTest = np.vstack((t1,t2,t3,t4))\n",
    "  syntheticTestLabel = np.hstack(([1] * 500, [2] * 500, [3] * 500, [4] * 500))\n",
    "\n",
    "  fig, (ax1) = plt.subplots(1,1)\n",
    "\n",
    "  ax1.scatter(d1[:,0], d1[:,1], color='red')\n",
    "  ax1.scatter(d2[:,0], d2[:,1], color='blue')\n",
    "  ax1.scatter(d3[:,0], d3[:,1], color='green')\n",
    "  ax1.scatter(d4[:,0], d4[:,1], color='black')\n",
    "\n",
    "  return syntheticTrain, syntheticTrainLabel, syntheticTest, syntheticTestLabel\n"
   ]
  },
  {
   "cell_type": "markdown",
   "metadata": {},
   "source": [
    "# PCA"
   ]
  },
  {
   "cell_type": "code",
   "execution_count": null,
   "metadata": {
    "collapsed": false
   },
   "outputs": [],
   "source": [
    "trainData, trainLabels, testData, testLabels = load()"
   ]
  },
  {
   "cell_type": "code",
   "execution_count": null,
   "metadata": {
    "collapsed": false
   },
   "outputs": [],
   "source": [
    "pca = PCA(n_components=3)\n",
    "#X = pca.inverse_transform(pca.fit_transform(trainData))\n",
    "X = pca.fit_transform(trainData)"
   ]
  },
  {
   "cell_type": "code",
   "execution_count": null,
   "metadata": {
    "collapsed": false
   },
   "outputs": [],
   "source": [
    "fig = plt.figure(figsize=(7,7))\n",
    "ax = Axes3D(fig)\n",
    "\n",
    "idx1 = np.array(trainLabels==1).ravel()\n",
    "idx2 = np.array(trainLabels==2).ravel()\n",
    "idx3 = np.array(trainLabels==3).ravel()\n",
    "idx4 = np.array(trainLabels==4).ravel()\n",
    "idx5 = np.array(trainLabels==5).ravel()\n",
    "idx6 = np.array(trainLabels==6).ravel()\n",
    "\n",
    "ax.plot(X[idx1,0], X[idx1,1], X[idx1,2], 'bo', ms=3, label=\"walking\")\n",
    "ax.plot(X[idx2,0], X[idx2,1], X[idx2,2], 'ro', ms=3, label=\"walking upstairs\")\n",
    "ax.plot(X[idx3,0], X[idx3,1], X[idx3,2], 'go', ms=3, label=\"walking downstairs\")\n",
    "ax.plot(X[idx4,0], X[idx4,1], X[idx4,2], 'co', ms=3, label=\"sitting\")\n",
    "ax.plot(X[idx5,0], X[idx5,1], X[idx5,2], 'yo', ms=3, label=\"standing\")\n",
    "ax.plot(X[idx6,0], X[idx6,1], X[idx6,2], 'mo', ms=3, label=\"laying\")\n",
    "ax.legend()"
   ]
  },
  {
   "cell_type": "markdown",
   "metadata": {
    "collapsed": true
   },
   "source": [
    "# GMM"
   ]
  },
  {
   "cell_type": "code",
   "execution_count": 12,
   "metadata": {
    "collapsed": false
   },
   "outputs": [],
   "source": [
    "trainData, trainLabels, testData, testLabels = load()\n",
    "\n",
    "lda = LDA(solver=\"svd\", store_covariance=True)\n",
    "trainData_lda = pd.DataFrame(lda.fit_transform(trainData, trainLabels))\n",
    "testData_lda = pd.DataFrame(lda.transform(testData))\n"
   ]
  },
  {
   "cell_type": "code",
   "execution_count": 28,
   "metadata": {
    "collapsed": false
   },
   "outputs": [],
   "source": [
    "all_models = []\n",
    "all_bics = []\n",
    "\n",
    "for i in xrange(6):\n",
    "    models = []\n",
    "    bics = []\n",
    "    for j in xrange(100):\n",
    "        idx = np.array(trainLabels==i+1).ravel()\n",
    "        idx_test = np.array(testLabels==i+1).ravel()\n",
    "\n",
    "        model = GMM(n_components=j+1, covariance_type=\"full\", random_state=7)\n",
    "        model.fit(trainData_lda[idx], trainLabels[idx])\n",
    "        models.append(model)\n",
    "        bics.append(model.bic(trainData_lda[idx]))\n",
    "    all_models.append(models)\n",
    "    all_bics.append(bics)"
   ]
  },
  {
   "cell_type": "code",
   "execution_count": 40,
   "metadata": {
    "collapsed": false
   },
   "outputs": [
    {
     "data": {
      "text/plain": [
       "(13000, 18000)"
      ]
     },
     "execution_count": 40,
     "metadata": {},
     "output_type": "execute_result"
    },
    {
     "data": {
      "image/png": "[encoded data removed]",
      "text/plain": [
       "<matplotlib.figure.Figure at 0x113c91210>"
      ]
     },
     "metadata": {},
     "output_type": "display_data"
    }
   ],
   "source": [
    "best = []\n",
    "for i in xrange(6):\n",
    "    minVal = np.argmin(all_bics[i])\n",
    "    best.append(minVal)\n",
    "    plt.plot(all_bics[i], label=\"{0} ({1})\".format(classes[i+1], minVal + 1))\n",
    "    plt.legend(loc='lower left', bbox_to_anchor=(1,0.5))\n",
    "plt.xlim([0,8])\n",
    "plt.ylim([13000,18000])"
   ]
  },
  {
   "cell_type": "code",
   "execution_count": 32,
   "metadata": {
    "collapsed": false
   },
   "outputs": [],
   "source": [
    "best_models = []\n",
    "scores_train = np.ndarray(shape=(7352, 6))\n",
    "scores_test = np.ndarray(shape=(2947, 6))\n",
    "for i in xrange(6):\n",
    "    best_model = all_models[i][best[i]]\n",
    "    best_models.append(best_model)\n",
    "    scores_train[:,i] = best_model.score(trainData_lda)\n",
    "    scores_test[:,i] = best_model.score(testData_lda)"
   ]
  },
  {
   "cell_type": "code",
   "execution_count": 46,
   "metadata": {
    "collapsed": false
   },
   "outputs": [
    {
     "name": "stdout",
     "output_type": "stream",
     "text": [
      "Train Error: 1.35%\n",
      "Test Error: 2.92%\n"
     ]
    }
   ],
   "source": [
    "predictions = np.argmax(scores_train, axis=1) + 1\n",
    "errors = (predictions != np.array(trainLabels).ravel())\n",
    "print \"Train Error: {0:0.2f}%\".format(100 * np.mean(errors))\n",
    "\n",
    "predictions = np.argmax(scores_test, axis=1) + 1\n",
    "errors = (predictions != np.array(testLabels).ravel())\n",
    "print \"Test Error: {0:0.2f}%\".format(100 * np.mean(errors))"
   ]
  },
  {
   "cell_type": "code",
   "execution_count": null,
   "metadata": {
    "collapsed": true
   },
   "outputs": [],
   "source": []
  }
 ],
 "metadata": {
  "kernelspec": {
   "display_name": "Python 2",
   "language": "python",
   "name": "python2"
  },
  "language_info": {
   "codemirror_mode": {
    "name": "ipython",
    "version": 2
   },
   "file_extension": ".py",
   "mimetype": "text/x-python",
   "name": "python",
   "nbconvert_exporter": "python",
   "pygments_lexer": "ipython2",
   "version": "2.7.10"
  }
 },
 "nbformat": 4,
 "nbformat_minor": 0
}
