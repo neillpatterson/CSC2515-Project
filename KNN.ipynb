{
 "cells": [
  {
   "cell_type": "code",
   "execution_count": 23,
   "metadata": {
    "collapsed": false
   },
   "outputs": [],
   "source": [
    "import numpy as np\n",
    "import pandas as pd\n",
    "import matplotlib.pyplot as plt\n",
    "import seaborn as sns\n",
    "from loadData import load\n",
    "\n",
    "from sklearn.cross_validation import cross_val_score\n",
    "from sklearn.neighbors import KNeighborsClassifier\n",
    "\n",
    "%matplotlib inline"
   ]
  },
  {
   "cell_type": "code",
   "execution_count": 2,
   "metadata": {
    "collapsed": false
   },
   "outputs": [],
   "source": [
    "trainData, trainLabels, testData, testLabels = load()\n",
    "\n",
    "models = []\n",
    "for i in xrange(1, 30):   \n",
    "    knn = KNeighborsClassifier(n_neighbors=i)\n",
    "    knn.fit(trainData, np.array(trainLabels).ravel())\n",
    "    models.append(knn)"
   ]
  },
  {
   "cell_type": "code",
   "execution_count": 14,
   "metadata": {
    "collapsed": false
   },
   "outputs": [
    {
     "name": "stdout",
     "output_type": "stream",
     "text": [
      "Train Error: 0.00%\n",
      "Test Error: 12.15%\n",
      "Train Error: 1.18%\n",
      "Test Error: 13.88%\n",
      "Train Error: 0.80%\n",
      "Test Error: 10.93%\n",
      "Train Error: 1.36%\n",
      "Test Error: 10.89%\n",
      "Train Error: 1.56%\n",
      "Test Error: 9.84%\n",
      "Train Error: 1.56%\n",
      "Test Error: 9.87%\n",
      "Train Error: 1.82%\n",
      "Test Error: 9.67%\n",
      "Train Error: 2.08%\n",
      "Test Error: 9.26%\n",
      "Train Error: 2.30%\n",
      "Test Error: 9.47%\n",
      "Train Error: 2.38%\n",
      "Test Error: 9.33%\n",
      "Train Error: 2.61%\n",
      "Test Error: 9.54%\n",
      "Train Error: 2.71%\n",
      "Test Error: 9.70%\n",
      "Train Error: 2.80%\n",
      "Test Error: 9.37%\n",
      "Train Error: 2.90%\n",
      "Test Error: 9.64%\n",
      "Train Error: 3.09%\n",
      "Test Error: 9.57%\n",
      "Train Error: 3.17%\n",
      "Test Error: 9.40%\n",
      "Train Error: 3.25%\n",
      "Test Error: 9.47%\n",
      "Train Error: 3.24%\n",
      "Test Error: 9.43%\n",
      "Train Error: 3.40%\n",
      "Test Error: 9.40%\n",
      "Train Error: 3.37%\n",
      "Test Error: 9.54%\n",
      "Train Error: 3.66%\n",
      "Test Error: 9.54%\n",
      "Train Error: 3.59%\n",
      "Test Error: 9.70%\n",
      "Train Error: 3.77%\n",
      "Test Error: 9.60%\n",
      "Train Error: 3.60%\n",
      "Test Error: 9.77%\n",
      "Train Error: 3.92%\n",
      "Test Error: 9.74%\n",
      "Train Error: 3.86%\n",
      "Test Error: 9.87%\n",
      "Train Error: 4.00%\n",
      "Test Error: 10.08%\n",
      "Train Error: 3.97%\n",
      "Test Error: 10.18%\n",
      "Train Error: 4.09%\n",
      "Test Error: 10.28%\n"
     ]
    }
   ],
   "source": [
    "trainErrors = []\n",
    "testErrors = []\n",
    "trainPredictions = []\n",
    "testPredictions = []\n",
    "\n",
    "for model in models:\n",
    "    predictions = model.predict(trainData)\n",
    "    trainPredictions.append(predictions)\n",
    "    errors = (predictions != np.array(trainLabels).ravel())\n",
    "    trainErrors.append(100 * np.mean(errors))\n",
    "    print \"Train Error: {0:0.2f}%\".format(100 * np.mean(errors))\n",
    "\n",
    "    predictions = model.predict(testData)\n",
    "    testPredictions.append(predictions)\n",
    "    errors = (predictions != np.array(testLabels).ravel())\n",
    "    testErrors.append(100 * np.mean(errors))\n",
    "    print \"Test Error: {0:0.2f}%\".format(100 * np.mean(errors))"
   ]
  },
  {
   "cell_type": "code",
   "execution_count": 21,
   "metadata": {
    "collapsed": false
   },
   "outputs": [
    {
     "data": {
      "text/plain": [
       "<matplotlib.legend.Legend at 0x154c59c10>"
      ]
     },
     "execution_count": 21,
     "metadata": {},
     "output_type": "execute_result"
    },
    {
     "data": {
      "image/png": "[encoded data removed]",
      "text/plain": [
       "<matplotlib.figure.Figure at 0x166406490>"
      ]
     },
     "metadata": {},
     "output_type": "display_data"
    }
   ],
   "source": [
    "plt.plot(trainErrors, label=\"Train Error\")\n",
    "plt.plot(testErrors, label=\"Test Error\")\n",
    "plt.legend()"
   ]
  },
  {
   "cell_type": "code",
   "execution_count": 12,
   "metadata": {
    "collapsed": false
   },
   "outputs": [
    {
     "data": {
      "text/plain": [
       "0.099692264488726118"
      ]
     },
     "execution_count": 12,
     "metadata": {},
     "output_type": "execute_result"
    }
   ],
   "source": [
    "testErrors"
   ]
  },
  {
   "cell_type": "code",
   "execution_count": null,
   "metadata": {
    "collapsed": false
   },
   "outputs": [],
   "source": [
    "validationErrors = []\n",
    "for model in models:\n",
    "    properLabels = np.array(trainLabels).ravel()\n",
    "    scores = cross_val_score(models[0], trainData, properLabels, cv=10, scoring=\"accuracy\")\n",
    "    validationErrors.append((1 - scores.mean()) * 100)"
   ]
  },
  {
   "cell_type": "code",
   "execution_count": null,
   "metadata": {
    "collapsed": true
   },
   "outputs": [],
   "source": []
  }
 ],
 "metadata": {
  "kernelspec": {
   "display_name": "Python 2",
   "language": "python",
   "name": "python2"
  },
  "language_info": {
   "codemirror_mode": {
    "name": "ipython",
    "version": 2
   },
   "file_extension": ".py",
   "mimetype": "text/x-python",
   "name": "python",
   "nbconvert_exporter": "python",
   "pygments_lexer": "ipython2",
   "version": "2.7.10"
  }
 },
 "nbformat": 4,
 "nbformat_minor": 0
}
